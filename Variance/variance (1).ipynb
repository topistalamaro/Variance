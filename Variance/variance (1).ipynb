{
 "cells": [
  {
   "cell_type": "code",
   "execution_count": null,
   "metadata": {},
   "outputs": [],
   "source": [
    "import pandas as pd\n",
    "import numpy as np\n",
    "from weather_data import london_data\n",
    "\n",
    "print(london_data.head())\n",
    "print(london_data.iloc[100:200])\n",
    "print(len(london_data))\n",
    "\n",
    "temp = london_data[\"TemperatureC\"]\n",
    "average_temp = np.mean(temp)\n",
    "print(average_temp)\n",
    "temperature_var = np.var(temp)\n",
    "print(temperature_var)\n",
    "temperature_standard_deviation = np.std(temp)\n",
    "print(temperature_standard_deviation)\n",
    "\n",
    "print(london_data.head())\n",
    "june = london_data.loc[london_data[\"month\"] == 6][\"TemperatureC\"]\n",
    "july = london_data.loc[london_data[\"month\"] == 7][\"TemperatureC\"]\n",
    "\n",
    "print(np.mean(june))\n",
    "print(np.mean(july))\n",
    "\n",
    "print(np.std(june))\n",
    "print(np.std(july))\n",
    "\n",
    "for i in range(1, 13):\n",
    "  month = london_data.loc[london_data[\"month\"] == i][\"TemperatureC\"]\n",
    "  print(\"The mean temperature in month \"+str(i) +\" is \"+ str(np.mean(month)))\n",
    "  print(\"The standard deviation of temperature in month \"+str(i) +\" is \"+ str(np.std(month)) +\"\\n\")"
   ]
  }
 ],
 "metadata": {
  "kernelspec": {
   "display_name": "Python 3",
   "language": "python",
   "name": "python3"
  },
  "language_info": {
   "codemirror_mode": {
    "name": "ipython",
    "version": 3
   },
   "file_extension": ".py",
   "mimetype": "text/x-python",
   "name": "python",
   "nbconvert_exporter": "python",
   "pygments_lexer": "ipython3",
   "version": "3.8.5"
  }
 },
 "nbformat": 4,
 "nbformat_minor": 4
}
